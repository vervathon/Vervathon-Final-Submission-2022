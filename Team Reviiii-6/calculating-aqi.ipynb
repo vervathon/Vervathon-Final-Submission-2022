{
 "cells": [
  {
   "cell_type": "markdown",
   "metadata": {
    "papermill": {
     "duration": 0.011635,
     "end_time": "2020-08-22T16:19:27.564944",
     "exception": false,
     "start_time": "2020-08-22T16:19:27.553309",
     "status": "completed"
    },
    "tags": []
   },
   "source": [
    "## Calculating AQI (Air Quality Index) in India"
   ]
  },
  {
   "cell_type": "code",
   "execution_count": 1,
   "metadata": {
    "_cell_guid": "b1076dfc-b9ad-4769-8c92-a6c4dae69d19",
    "_uuid": "8f2839f25d086af736a60e9eeb907d3b93b6e0e5",
    "papermill": {
     "duration": 0.01993,
     "end_time": "2020-08-22T16:19:27.615215",
     "exception": false,
     "start_time": "2020-08-22T16:19:27.595285",
     "status": "completed"
    },
    "tags": []
   },
   "outputs": [],
   "source": [
    "## importing packages\n",
    "import numpy as np\n",
    "import pandas as pd\n"
   ]
  },
  {
   "cell_type": "code",
   "execution_count": 2,
   "metadata": {
    "papermill": {
     "duration": 0.015964,
     "end_time": "2020-08-22T16:19:27.637853",
     "exception": false,
     "start_time": "2020-08-22T16:19:27.621889",
     "status": "completed"
    },
    "tags": []
   },
   "outputs": [],
   "source": [
    "PATH_STATION_HOUR = \"/Users/mugunthansaravanan/Desktop/IT/DATA/station_hour.csv\"\n",
    "PATH_STATION_DAY = \"/Users/mugunthansaravanan/Desktop/IT/DATA/station_day.csv\"\n",
    "PATH_CITY_HOUR = \"/Users/mugunthansaravanan/Desktop/IT/DATA/city_hour.csv\"\n",
    "PATH_CITY_DAY = \"/Users/mugunthansaravanan/Desktop/IT/DATA/city_day.csv\"\n",
    "PATH_STATIONS = \"/Users/mugunthansaravanan/Desktop/IT/DATA/stations.csv\"\n",
    "\n",
    "STATIONS = ['AP001', 'AP005', 'AS001', 'BR005', 'BR006', 'BR007', 'BR008',\n",
    "       'BR009', 'BR010', 'CH001', 'DL001', 'DL002', 'DL003', 'DL004',\n",
    "       'DL005', 'DL006', 'DL007', 'DL008', 'DL009', 'DL010', 'DL011',\n",
    "       'DL012', 'DL013', 'DL014', 'DL015', 'DL016', 'DL017', 'DL018',\n",
    "       'DL019', 'DL020', 'DL021', 'DL022', 'DL023', 'DL024', 'DL025',\n",
    "       'DL026', 'DL027', 'DL028', 'DL029', 'DL030', 'DL031', 'DL032',\n",
    "       'DL033', 'DL034', 'DL035', 'DL036', 'DL037', 'DL038', 'GJ001',\n",
    "       'HR011', 'HR012', 'HR013', 'HR014', 'JH001', 'KA002', 'KA003',\n",
    "       'KA004', 'KA005', 'KA006', 'KA007', 'KA008', 'KA009', 'KA010',\n",
    "       'KA011', 'KL002', 'KL004', 'KL007', 'KL008', 'MH005', 'MH006',\n",
    "       'MH007', 'MH008', 'MH009', 'MH010', 'MH011', 'MH012', 'MH013',\n",
    "       'MH014', 'ML001', 'MP001', 'MZ001', 'OD001', 'OD002', 'PB001',\n",
    "       'RJ004', 'RJ005', 'RJ006', 'TG001', 'TG002', 'TG003', 'TG004',\n",
    "       'TG005', 'TG006', 'TN001', 'TN002', 'TN003', 'TN004', 'TN005',\n",
    "       'UP012', 'UP013', 'UP014', 'UP015', 'UP016', 'WB007', 'WB008',\n",
    "       'WB009', 'WB010', 'WB011', 'WB012', 'WB013']"
   ]
  },
  {
   "cell_type": "code",
   "execution_count": 3,
   "metadata": {
    "_cell_guid": "79c7e3d0-c299-4dcb-8224-4455121ee9b0",
    "_uuid": "d629ff2d2480ee46fbb7e2d37f6b5fab8052498a",
    "papermill": {
     "duration": 8.303198,
     "end_time": "2020-08-22T16:19:35.953404",
     "exception": false,
     "start_time": "2020-08-22T16:19:27.650206",
     "status": "completed"
    },
    "tags": []
   },
   "outputs": [
    {
     "name": "stderr",
     "output_type": "stream",
     "text": [
      "/var/folders/c5/pybf6__n457_45lwcj0lnz980000gn/T/ipykernel_6564/2357180876.py:2: DtypeWarning: Columns (15) have mixed types. Specify dtype option on import or set low_memory=False.\n",
      "  df = pd.read_csv(PATH_STATION_HOUR, parse_dates = [\"Datetime\"])\n"
     ]
    }
   ],
   "source": [
    "## importing data and subsetting the station\n",
    "df = pd.read_csv(PATH_STATION_HOUR, parse_dates = [\"Datetime\"])\n",
    "stations = pd.read_csv(PATH_STATIONS)\n",
    "\n",
    "df = df.merge(stations, on = \"StationId\")\n",
    "\n",
    "df = df[df.StationId.isin(STATIONS)]\n",
    "df.sort_values([\"StationId\", \"Datetime\"], inplace = True)\n",
    "df[\"Date\"] = df.Datetime.dt.date.astype(str)\n",
    "df.Datetime = df.Datetime.astype(str)\n"
   ]
  },
  {
   "cell_type": "code",
   "execution_count": 4,
   "metadata": {
    "papermill": {
     "duration": 0.137847,
     "end_time": "2020-08-22T16:19:36.110739",
     "exception": false,
     "start_time": "2020-08-22T16:19:35.972892",
     "status": "completed"
    },
    "tags": []
   },
   "outputs": [],
   "source": [
    "df[\"PM10_24hr_avg\"] = df.groupby(\"StationId\")[\"PM10\"].rolling(window = 24, min_periods = 16).mean().values\n",
    "df[\"PM2.5_24hr_avg\"] = df.groupby(\"StationId\")[\"PM2.5\"].rolling(window = 24, min_periods = 16).mean().values\n",
    "df[\"SO2_24hr_avg\"] = df.groupby(\"StationId\")[\"SO2\"].rolling(window = 24, min_periods = 16).mean().values\n",
    "df[\"NOx_24hr_avg\"] = df.groupby(\"StationId\")[\"NOx\"].rolling(window = 24, min_periods = 16).mean().values\n",
    "df[\"NH3_24hr_avg\"] = df.groupby(\"StationId\")[\"NH3\"].rolling(window = 24, min_periods = 16).mean().values\n",
    "df[\"CO_8hr_max\"] = df.groupby(\"StationId\")[\"CO\"].rolling(window = 8, min_periods = 1).max().values\n",
    "df[\"O3_8hr_max\"] = df.groupby(\"StationId\")[\"O3\"].rolling(window = 8, min_periods = 1).max().values\n"
   ]
  },
  {
   "cell_type": "markdown",
   "metadata": {
    "papermill": {
     "duration": 0.006103,
     "end_time": "2020-08-22T16:19:36.123822",
     "exception": false,
     "start_time": "2020-08-22T16:19:36.117719",
     "status": "completed"
    },
    "tags": []
   },
   "source": [
    "## PM2.5 (Particulate Matter 2.5-micrometer)\n",
    "PM2.5 is measured in ug / m3 (micrograms per cubic meter of air). The predefined groups are defined in the function below:\n"
   ]
  },
  {
   "cell_type": "code",
   "execution_count": 5,
   "metadata": {
    "papermill": {
     "duration": 0.059089,
     "end_time": "2020-08-22T16:19:36.189304",
     "exception": false,
     "start_time": "2020-08-22T16:19:36.130215",
     "status": "completed"
    },
    "tags": []
   },
   "outputs": [],
   "source": [
    "## PM2.5 Sub-Index calculation\n",
    "def get_PM25_subindex(x):\n",
    "    if x <= 30:\n",
    "        return x * 50 / 30\n",
    "    elif x <= 60:\n",
    "        return 50 + (x - 30) * 50 / 30\n",
    "    elif x <= 90:\n",
    "        return 100 + (x - 60) * 100 / 30\n",
    "    elif x <= 120:\n",
    "        return 200 + (x - 90) * 100 / 30\n",
    "    elif x <= 250:\n",
    "        return 300 + (x - 120) * 100 / 130\n",
    "    elif x > 250:\n",
    "        return 400 + (x - 250) * 100 / 130\n",
    "    else:\n",
    "        return 0\n",
    "\n",
    "df[\"PM2.5_SubIndex\"] = df[\"PM2.5_24hr_avg\"].apply(lambda x: get_PM25_subindex(x))\n"
   ]
  },
  {
   "cell_type": "markdown",
   "metadata": {
    "papermill": {
     "duration": 0.006207,
     "end_time": "2020-08-22T16:19:36.202108",
     "exception": false,
     "start_time": "2020-08-22T16:19:36.195901",
     "status": "completed"
    },
    "tags": []
   },
   "source": [
    "## PM10 (Particulate Matter 10-micrometer)\n",
    "PM10 is measured in ug / m3 (micrograms per cubic meter of air). The predefined groups are defined in the function below:\n"
   ]
  },
  {
   "cell_type": "code",
   "execution_count": 6,
   "metadata": {
    "papermill": {
     "duration": 0.051172,
     "end_time": "2020-08-22T16:19:36.259855",
     "exception": false,
     "start_time": "2020-08-22T16:19:36.208683",
     "status": "completed"
    },
    "tags": []
   },
   "outputs": [],
   "source": [
    "## PM10 Sub-Index calculation\n",
    "def get_PM10_subindex(x):\n",
    "    if x <= 50:\n",
    "        return x\n",
    "    elif x <= 100:\n",
    "        return x\n",
    "    elif x <= 250:\n",
    "        return 100 + (x - 100) * 100 / 150\n",
    "    elif x <= 350:\n",
    "        return 200 + (x - 250)\n",
    "    elif x <= 430:\n",
    "        return 300 + (x - 350) * 100 / 80\n",
    "    elif x > 430:\n",
    "        return 400 + (x - 430) * 100 / 80\n",
    "    else:\n",
    "        return 0\n",
    "\n",
    "df[\"PM10_SubIndex\"] = df[\"PM10_24hr_avg\"].apply(lambda x: get_PM10_subindex(x))\n"
   ]
  },
  {
   "cell_type": "markdown",
   "metadata": {
    "papermill": {
     "duration": 0.006081,
     "end_time": "2020-08-22T16:19:36.272642",
     "exception": false,
     "start_time": "2020-08-22T16:19:36.266561",
     "status": "completed"
    },
    "tags": []
   },
   "source": [
    "## SO2 (Sulphur Dioxide)\n",
    "SO2 is measured in ug / m3 (micrograms per cubic meter of air). The predefined groups are defined in the function below:"
   ]
  },
  {
   "cell_type": "code",
   "execution_count": 7,
   "metadata": {
    "papermill": {
     "duration": 0.055415,
     "end_time": "2020-08-22T16:19:36.334863",
     "exception": false,
     "start_time": "2020-08-22T16:19:36.279448",
     "status": "completed"
    },
    "tags": []
   },
   "outputs": [],
   "source": [
    "## SO2 Sub-Index calculation\n",
    "def get_SO2_subindex(x):\n",
    "    if x <= 40:\n",
    "        return x * 50 / 40\n",
    "    elif x <= 80:\n",
    "        return 50 + (x - 40) * 50 / 40\n",
    "    elif x <= 380:\n",
    "        return 100 + (x - 80) * 100 / 300\n",
    "    elif x <= 800:\n",
    "        return 200 + (x - 380) * 100 / 420\n",
    "    elif x <= 1600:\n",
    "        return 300 + (x - 800) * 100 / 800\n",
    "    elif x > 1600:\n",
    "        return 400 + (x - 1600) * 100 / 800\n",
    "    else:\n",
    "        return 0\n",
    "\n",
    "df[\"SO2_SubIndex\"] = df[\"SO2_24hr_avg\"].apply(lambda x: get_SO2_subindex(x))\n"
   ]
  },
  {
   "cell_type": "markdown",
   "metadata": {
    "papermill": {
     "duration": 0.006255,
     "end_time": "2020-08-22T16:19:36.347818",
     "exception": false,
     "start_time": "2020-08-22T16:19:36.341563",
     "status": "completed"
    },
    "tags": []
   },
   "source": [
    "## NOx (Any Nitric x-oxide)\n",
    "NOx is measured in ppb (parts per billion). The predefined groups are defined in the function below:\n"
   ]
  },
  {
   "cell_type": "code",
   "execution_count": 8,
   "metadata": {
    "papermill": {
     "duration": 0.054532,
     "end_time": "2020-08-22T16:19:36.409077",
     "exception": false,
     "start_time": "2020-08-22T16:19:36.354545",
     "status": "completed"
    },
    "tags": []
   },
   "outputs": [],
   "source": [
    "## NOx Sub-Index calculation\n",
    "def get_NOx_subindex(x):\n",
    "    if x <= 40:\n",
    "        return x * 50 / 40\n",
    "    elif x <= 80:\n",
    "        return 50 + (x - 40) * 50 / 40\n",
    "    elif x <= 180:\n",
    "        return 100 + (x - 80) * 100 / 100\n",
    "    elif x <= 280:\n",
    "        return 200 + (x - 180) * 100 / 100\n",
    "    elif x <= 400:\n",
    "        return 300 + (x - 280) * 100 / 120\n",
    "    elif x > 400:\n",
    "        return 400 + (x - 400) * 100 / 120\n",
    "    else:\n",
    "        return 0\n",
    "\n",
    "df[\"NOx_SubIndex\"] = df[\"NOx_24hr_avg\"].apply(lambda x: get_NOx_subindex(x))\n"
   ]
  },
  {
   "cell_type": "markdown",
   "metadata": {
    "papermill": {
     "duration": 0.006464,
     "end_time": "2020-08-22T16:19:36.423566",
     "exception": false,
     "start_time": "2020-08-22T16:19:36.417102",
     "status": "completed"
    },
    "tags": []
   },
   "source": [
    "## NH3 (Ammonia)\n",
    "NH3 is measured in ug / m3 (micrograms per cubic meter of air). The predefined groups are defined in the function below:"
   ]
  },
  {
   "cell_type": "code",
   "execution_count": 9,
   "metadata": {
    "papermill": {
     "duration": 0.055112,
     "end_time": "2020-08-22T16:19:36.485228",
     "exception": false,
     "start_time": "2020-08-22T16:19:36.430116",
     "status": "completed"
    },
    "tags": []
   },
   "outputs": [],
   "source": [
    "## NH3 Sub-Index calculation\n",
    "def get_NH3_subindex(x):\n",
    "    if x <= 200:\n",
    "        return x * 50 / 200\n",
    "    elif x <= 400:\n",
    "        return 50 + (x - 200) * 50 / 200\n",
    "    elif x <= 800:\n",
    "        return 100 + (x - 400) * 100 / 400\n",
    "    elif x <= 1200:\n",
    "        return 200 + (x - 800) * 100 / 400\n",
    "    elif x <= 1800:\n",
    "        return 300 + (x - 1200) * 100 / 600\n",
    "    elif x > 1800:\n",
    "        return 400 + (x - 1800) * 100 / 600\n",
    "    else:\n",
    "        return 0\n",
    "\n",
    "df[\"NH3_SubIndex\"] = df[\"NH3_24hr_avg\"].apply(lambda x: get_NH3_subindex(x))\n"
   ]
  },
  {
   "cell_type": "markdown",
   "metadata": {
    "papermill": {
     "duration": 0.00633,
     "end_time": "2020-08-22T16:19:36.498616",
     "exception": false,
     "start_time": "2020-08-22T16:19:36.492286",
     "status": "completed"
    },
    "tags": []
   },
   "source": [
    "## CO (Carbon Monoxide)\n",
    "CO is measured in mg / m3 (milligrams per cubic meter of air). The predefined groups are defined in the function below:"
   ]
  },
  {
   "cell_type": "code",
   "execution_count": 10,
   "metadata": {
    "papermill": {
     "duration": 0.038492,
     "end_time": "2020-08-22T16:19:36.543647",
     "exception": false,
     "start_time": "2020-08-22T16:19:36.505155",
     "status": "completed"
    },
    "tags": []
   },
   "outputs": [],
   "source": [
    "## CO Sub-Index calculation\n",
    "def get_CO_subindex(x):\n",
    "    if x <= 1:\n",
    "        return x * 50 / 1\n",
    "    elif x <= 2:\n",
    "        return 50 + (x - 1) * 50 / 1\n",
    "    elif x <= 10:\n",
    "        return 100 + (x - 2) * 100 / 8\n",
    "    elif x <= 17:\n",
    "        return 200 + (x - 10) * 100 / 7\n",
    "    elif x <= 34:\n",
    "        return 300 + (x - 17) * 100 / 17\n",
    "    elif x > 34:\n",
    "        return 400 + (x - 34) * 100 / 17\n",
    "    else:\n",
    "        return 0\n",
    "\n",
    "df[\"CO_SubIndex\"] = df[\"CO_8hr_max\"].apply(lambda x: get_CO_subindex(x))\n"
   ]
  },
  {
   "cell_type": "markdown",
   "metadata": {
    "papermill": {
     "duration": 0.010926,
     "end_time": "2020-08-22T16:19:36.564702",
     "exception": false,
     "start_time": "2020-08-22T16:19:36.553776",
     "status": "completed"
    },
    "tags": []
   },
   "source": [
    "## O3 (Ozone or Trioxygen)\n",
    "O3 is measured in ug / m3 (micrograms per cubic meter of air). The predefined groups are defined in the function below:"
   ]
  },
  {
   "cell_type": "code",
   "execution_count": 11,
   "metadata": {
    "papermill": {
     "duration": 0.041793,
     "end_time": "2020-08-22T16:19:36.617120",
     "exception": false,
     "start_time": "2020-08-22T16:19:36.575327",
     "status": "completed"
    },
    "tags": []
   },
   "outputs": [],
   "source": [
    "## O3 Sub-Index calculation\n",
    "def get_O3_subindex(x):\n",
    "    if x <= 50:\n",
    "        return x * 50 / 50\n",
    "    elif x <= 100:\n",
    "        return 50 + (x - 50) * 50 / 50\n",
    "    elif x <= 168:\n",
    "        return 100 + (x - 100) * 100 / 68\n",
    "    elif x <= 208:\n",
    "        return 200 + (x - 168) * 100 / 40\n",
    "    elif x <= 748:\n",
    "        return 300 + (x - 208) * 100 / 539\n",
    "    elif x > 748:\n",
    "        return 400 + (x - 400) * 100 / 539\n",
    "    else:\n",
    "        return 0\n",
    "\n",
    "df[\"O3_SubIndex\"] = df[\"O3_8hr_max\"].apply(lambda x: get_O3_subindex(x))\n"
   ]
  },
  {
   "cell_type": "markdown",
   "metadata": {
    "papermill": {
     "duration": 0.006211,
     "end_time": "2020-08-22T16:19:36.629964",
     "exception": false,
     "start_time": "2020-08-22T16:19:36.623753",
     "status": "completed"
    },
    "tags": []
   },
   "source": [
    "## AQI"
   ]
  },
  {
   "cell_type": "code",
   "execution_count": 12,
   "metadata": {
    "papermill": {
     "duration": 0.131845,
     "end_time": "2020-08-22T16:19:36.768580",
     "exception": false,
     "start_time": "2020-08-22T16:19:36.636735",
     "status": "completed"
    },
    "tags": []
   },
   "outputs": [
    {
     "data": {
      "text/html": [
       "<div>\n",
       "<style scoped>\n",
       "    .dataframe tbody tr th:only-of-type {\n",
       "        vertical-align: middle;\n",
       "    }\n",
       "\n",
       "    .dataframe tbody tr th {\n",
       "        vertical-align: top;\n",
       "    }\n",
       "\n",
       "    .dataframe thead th {\n",
       "        text-align: right;\n",
       "    }\n",
       "</style>\n",
       "<table border=\"1\" class=\"dataframe\">\n",
       "  <thead>\n",
       "    <tr style=\"text-align: right;\">\n",
       "      <th></th>\n",
       "      <th>StationId</th>\n",
       "      <th>Datetime</th>\n",
       "      <th>PM2.5</th>\n",
       "      <th>PM10</th>\n",
       "      <th>NO</th>\n",
       "      <th>NO2</th>\n",
       "      <th>NOx</th>\n",
       "      <th>NH3</th>\n",
       "      <th>CO</th>\n",
       "      <th>SO2</th>\n",
       "      <th>...</th>\n",
       "      <th>PM2.5_SubIndex</th>\n",
       "      <th>PM10_SubIndex</th>\n",
       "      <th>SO2_SubIndex</th>\n",
       "      <th>NOx_SubIndex</th>\n",
       "      <th>NH3_SubIndex</th>\n",
       "      <th>CO_SubIndex</th>\n",
       "      <th>O3_SubIndex</th>\n",
       "      <th>Checks</th>\n",
       "      <th>AQI_calculated</th>\n",
       "      <th>AQI_bucket_calculated</th>\n",
       "    </tr>\n",
       "  </thead>\n",
       "  <tbody>\n",
       "    <tr>\n",
       "      <th>16</th>\n",
       "      <td>AP001</td>\n",
       "      <td>2017-11-25 09:00:00</td>\n",
       "      <td>104.00</td>\n",
       "      <td>148.50</td>\n",
       "      <td>1.93</td>\n",
       "      <td>23.00</td>\n",
       "      <td>13.75</td>\n",
       "      <td>9.80</td>\n",
       "      <td>0.1</td>\n",
       "      <td>15.30</td>\n",
       "      <td>...</td>\n",
       "      <td>155.468750</td>\n",
       "      <td>112.562500</td>\n",
       "      <td>14.349219</td>\n",
       "      <td>15.366406</td>\n",
       "      <td>2.844844</td>\n",
       "      <td>5.0</td>\n",
       "      <td>125.911765</td>\n",
       "      <td>7</td>\n",
       "      <td>155.0</td>\n",
       "      <td>Moderate</td>\n",
       "    </tr>\n",
       "    <tr>\n",
       "      <th>17</th>\n",
       "      <td>AP001</td>\n",
       "      <td>2017-11-25 10:00:00</td>\n",
       "      <td>94.50</td>\n",
       "      <td>142.00</td>\n",
       "      <td>1.33</td>\n",
       "      <td>16.25</td>\n",
       "      <td>9.75</td>\n",
       "      <td>9.65</td>\n",
       "      <td>0.1</td>\n",
       "      <td>17.00</td>\n",
       "      <td>...</td>\n",
       "      <td>158.970588</td>\n",
       "      <td>113.470588</td>\n",
       "      <td>14.755147</td>\n",
       "      <td>15.179412</td>\n",
       "      <td>2.819412</td>\n",
       "      <td>5.0</td>\n",
       "      <td>153.279412</td>\n",
       "      <td>7</td>\n",
       "      <td>159.0</td>\n",
       "      <td>Moderate</td>\n",
       "    </tr>\n",
       "    <tr>\n",
       "      <th>18</th>\n",
       "      <td>AP001</td>\n",
       "      <td>2017-11-25 11:00:00</td>\n",
       "      <td>82.75</td>\n",
       "      <td>126.50</td>\n",
       "      <td>1.47</td>\n",
       "      <td>14.83</td>\n",
       "      <td>9.07</td>\n",
       "      <td>9.70</td>\n",
       "      <td>0.1</td>\n",
       "      <td>15.40</td>\n",
       "      <td>...</td>\n",
       "      <td>159.907407</td>\n",
       "      <td>113.703704</td>\n",
       "      <td>15.004861</td>\n",
       "      <td>14.965972</td>\n",
       "      <td>2.797500</td>\n",
       "      <td>5.0</td>\n",
       "      <td>173.411765</td>\n",
       "      <td>7</td>\n",
       "      <td>173.0</td>\n",
       "      <td>Moderate</td>\n",
       "    </tr>\n",
       "    <tr>\n",
       "      <th>19</th>\n",
       "      <td>AP001</td>\n",
       "      <td>2017-11-25 12:00:00</td>\n",
       "      <td>79.00</td>\n",
       "      <td>124.00</td>\n",
       "      <td>5.30</td>\n",
       "      <td>21.15</td>\n",
       "      <td>15.53</td>\n",
       "      <td>9.40</td>\n",
       "      <td>0.1</td>\n",
       "      <td>NaN</td>\n",
       "      <td>...</td>\n",
       "      <td>160.087719</td>\n",
       "      <td>113.824561</td>\n",
       "      <td>15.004861</td>\n",
       "      <td>15.200000</td>\n",
       "      <td>2.773947</td>\n",
       "      <td>5.0</td>\n",
       "      <td>183.529412</td>\n",
       "      <td>7</td>\n",
       "      <td>184.0</td>\n",
       "      <td>Moderate</td>\n",
       "    </tr>\n",
       "    <tr>\n",
       "      <th>20</th>\n",
       "      <td>AP001</td>\n",
       "      <td>2017-11-25 13:00:00</td>\n",
       "      <td>NaN</td>\n",
       "      <td>NaN</td>\n",
       "      <td>NaN</td>\n",
       "      <td>NaN</td>\n",
       "      <td>NaN</td>\n",
       "      <td>NaN</td>\n",
       "      <td>NaN</td>\n",
       "      <td>NaN</td>\n",
       "      <td>...</td>\n",
       "      <td>160.087719</td>\n",
       "      <td>113.824561</td>\n",
       "      <td>15.004861</td>\n",
       "      <td>15.200000</td>\n",
       "      <td>2.773947</td>\n",
       "      <td>5.0</td>\n",
       "      <td>183.529412</td>\n",
       "      <td>7</td>\n",
       "      <td>184.0</td>\n",
       "      <td>Moderate</td>\n",
       "    </tr>\n",
       "    <tr>\n",
       "      <th>21</th>\n",
       "      <td>AP001</td>\n",
       "      <td>2017-11-25 14:00:00</td>\n",
       "      <td>68.50</td>\n",
       "      <td>117.00</td>\n",
       "      <td>1.35</td>\n",
       "      <td>13.60</td>\n",
       "      <td>8.35</td>\n",
       "      <td>7.40</td>\n",
       "      <td>0.1</td>\n",
       "      <td>21.80</td>\n",
       "      <td>...</td>\n",
       "      <td>158.500000</td>\n",
       "      <td>113.700000</td>\n",
       "      <td>15.649342</td>\n",
       "      <td>14.961875</td>\n",
       "      <td>2.727750</td>\n",
       "      <td>5.0</td>\n",
       "      <td>190.735294</td>\n",
       "      <td>7</td>\n",
       "      <td>191.0</td>\n",
       "      <td>Moderate</td>\n",
       "    </tr>\n",
       "    <tr>\n",
       "      <th>22</th>\n",
       "      <td>AP001</td>\n",
       "      <td>2017-11-25 15:00:00</td>\n",
       "      <td>69.25</td>\n",
       "      <td>112.25</td>\n",
       "      <td>1.52</td>\n",
       "      <td>11.80</td>\n",
       "      <td>7.55</td>\n",
       "      <td>9.25</td>\n",
       "      <td>0.1</td>\n",
       "      <td>21.38</td>\n",
       "      <td>...</td>\n",
       "      <td>157.182540</td>\n",
       "      <td>113.436508</td>\n",
       "      <td>16.203125</td>\n",
       "      <td>14.698810</td>\n",
       "      <td>2.707976</td>\n",
       "      <td>5.0</td>\n",
       "      <td>190.735294</td>\n",
       "      <td>7</td>\n",
       "      <td>191.0</td>\n",
       "      <td>Moderate</td>\n",
       "    </tr>\n",
       "    <tr>\n",
       "      <th>23</th>\n",
       "      <td>AP001</td>\n",
       "      <td>2017-11-25 16:00:00</td>\n",
       "      <td>70.00</td>\n",
       "      <td>107.00</td>\n",
       "      <td>2.80</td>\n",
       "      <td>30.33</td>\n",
       "      <td>18.40</td>\n",
       "      <td>6.15</td>\n",
       "      <td>0.1</td>\n",
       "      <td>18.90</td>\n",
       "      <td>...</td>\n",
       "      <td>156.098485</td>\n",
       "      <td>113.037879</td>\n",
       "      <td>16.556548</td>\n",
       "      <td>15.076136</td>\n",
       "      <td>2.654773</td>\n",
       "      <td>5.0</td>\n",
       "      <td>190.735294</td>\n",
       "      <td>7</td>\n",
       "      <td>191.0</td>\n",
       "      <td>Moderate</td>\n",
       "    </tr>\n",
       "    <tr>\n",
       "      <th>24</th>\n",
       "      <td>AP001</td>\n",
       "      <td>2017-11-25 17:00:00</td>\n",
       "      <td>72.75</td>\n",
       "      <td>120.25</td>\n",
       "      <td>1.50</td>\n",
       "      <td>26.72</td>\n",
       "      <td>15.45</td>\n",
       "      <td>10.78</td>\n",
       "      <td>0.1</td>\n",
       "      <td>16.03</td>\n",
       "      <td>...</td>\n",
       "      <td>157.954545</td>\n",
       "      <td>113.712121</td>\n",
       "      <td>16.805357</td>\n",
       "      <td>14.917045</td>\n",
       "      <td>2.680682</td>\n",
       "      <td>5.0</td>\n",
       "      <td>190.735294</td>\n",
       "      <td>7</td>\n",
       "      <td>191.0</td>\n",
       "      <td>Moderate</td>\n",
       "    </tr>\n",
       "    <tr>\n",
       "      <th>25</th>\n",
       "      <td>AP001</td>\n",
       "      <td>2017-11-25 18:00:00</td>\n",
       "      <td>81.50</td>\n",
       "      <td>134.75</td>\n",
       "      <td>1.10</td>\n",
       "      <td>18.78</td>\n",
       "      <td>10.88</td>\n",
       "      <td>14.73</td>\n",
       "      <td>0.1</td>\n",
       "      <td>12.93</td>\n",
       "      <td>...</td>\n",
       "      <td>160.378788</td>\n",
       "      <td>114.424242</td>\n",
       "      <td>16.791071</td>\n",
       "      <td>14.678977</td>\n",
       "      <td>2.737045</td>\n",
       "      <td>5.0</td>\n",
       "      <td>190.735294</td>\n",
       "      <td>7</td>\n",
       "      <td>191.0</td>\n",
       "      <td>Moderate</td>\n",
       "    </tr>\n",
       "    <tr>\n",
       "      <th>26</th>\n",
       "      <td>AP001</td>\n",
       "      <td>2017-11-25 19:00:00</td>\n",
       "      <td>85.00</td>\n",
       "      <td>142.50</td>\n",
       "      <td>1.62</td>\n",
       "      <td>26.20</td>\n",
       "      <td>15.27</td>\n",
       "      <td>14.50</td>\n",
       "      <td>0.2</td>\n",
       "      <td>12.90</td>\n",
       "      <td>...</td>\n",
       "      <td>161.136364</td>\n",
       "      <td>114.742424</td>\n",
       "      <td>16.839881</td>\n",
       "      <td>14.685795</td>\n",
       "      <td>2.765227</td>\n",
       "      <td>10.0</td>\n",
       "      <td>190.735294</td>\n",
       "      <td>7</td>\n",
       "      <td>191.0</td>\n",
       "      <td>Moderate</td>\n",
       "    </tr>\n",
       "    <tr>\n",
       "      <th>27</th>\n",
       "      <td>AP001</td>\n",
       "      <td>2017-11-25 20:00:00</td>\n",
       "      <td>91.50</td>\n",
       "      <td>145.75</td>\n",
       "      <td>0.98</td>\n",
       "      <td>18.88</td>\n",
       "      <td>10.83</td>\n",
       "      <td>14.12</td>\n",
       "      <td>0.2</td>\n",
       "      <td>15.22</td>\n",
       "      <td>...</td>\n",
       "      <td>162.651515</td>\n",
       "      <td>115.121212</td>\n",
       "      <td>17.122619</td>\n",
       "      <td>14.719886</td>\n",
       "      <td>2.794091</td>\n",
       "      <td>10.0</td>\n",
       "      <td>190.735294</td>\n",
       "      <td>7</td>\n",
       "      <td>191.0</td>\n",
       "      <td>Moderate</td>\n",
       "    </tr>\n",
       "    <tr>\n",
       "      <th>28</th>\n",
       "      <td>AP001</td>\n",
       "      <td>2017-11-25 21:00:00</td>\n",
       "      <td>92.50</td>\n",
       "      <td>131.25</td>\n",
       "      <td>0.55</td>\n",
       "      <td>21.35</td>\n",
       "      <td>11.80</td>\n",
       "      <td>12.23</td>\n",
       "      <td>0.1</td>\n",
       "      <td>17.45</td>\n",
       "      <td>...</td>\n",
       "      <td>165.265152</td>\n",
       "      <td>115.583333</td>\n",
       "      <td>17.618452</td>\n",
       "      <td>14.797727</td>\n",
       "      <td>2.796364</td>\n",
       "      <td>10.0</td>\n",
       "      <td>190.735294</td>\n",
       "      <td>7</td>\n",
       "      <td>191.0</td>\n",
       "      <td>Moderate</td>\n",
       "    </tr>\n",
       "  </tbody>\n",
       "</table>\n",
       "<p>13 rows × 39 columns</p>\n",
       "</div>"
      ],
      "text/plain": [
       "   StationId             Datetime   PM2.5    PM10    NO    NO2    NOx    NH3  \\\n",
       "16     AP001  2017-11-25 09:00:00  104.00  148.50  1.93  23.00  13.75   9.80   \n",
       "17     AP001  2017-11-25 10:00:00   94.50  142.00  1.33  16.25   9.75   9.65   \n",
       "18     AP001  2017-11-25 11:00:00   82.75  126.50  1.47  14.83   9.07   9.70   \n",
       "19     AP001  2017-11-25 12:00:00   79.00  124.00  5.30  21.15  15.53   9.40   \n",
       "20     AP001  2017-11-25 13:00:00     NaN     NaN   NaN    NaN    NaN    NaN   \n",
       "21     AP001  2017-11-25 14:00:00   68.50  117.00  1.35  13.60   8.35   7.40   \n",
       "22     AP001  2017-11-25 15:00:00   69.25  112.25  1.52  11.80   7.55   9.25   \n",
       "23     AP001  2017-11-25 16:00:00   70.00  107.00  2.80  30.33  18.40   6.15   \n",
       "24     AP001  2017-11-25 17:00:00   72.75  120.25  1.50  26.72  15.45  10.78   \n",
       "25     AP001  2017-11-25 18:00:00   81.50  134.75  1.10  18.78  10.88  14.73   \n",
       "26     AP001  2017-11-25 19:00:00   85.00  142.50  1.62  26.20  15.27  14.50   \n",
       "27     AP001  2017-11-25 20:00:00   91.50  145.75  0.98  18.88  10.83  14.12   \n",
       "28     AP001  2017-11-25 21:00:00   92.50  131.25  0.55  21.35  11.80  12.23   \n",
       "\n",
       "     CO    SO2  ...  PM2.5_SubIndex  PM10_SubIndex  SO2_SubIndex  \\\n",
       "16  0.1  15.30  ...      155.468750     112.562500     14.349219   \n",
       "17  0.1  17.00  ...      158.970588     113.470588     14.755147   \n",
       "18  0.1  15.40  ...      159.907407     113.703704     15.004861   \n",
       "19  0.1    NaN  ...      160.087719     113.824561     15.004861   \n",
       "20  NaN    NaN  ...      160.087719     113.824561     15.004861   \n",
       "21  0.1  21.80  ...      158.500000     113.700000     15.649342   \n",
       "22  0.1  21.38  ...      157.182540     113.436508     16.203125   \n",
       "23  0.1  18.90  ...      156.098485     113.037879     16.556548   \n",
       "24  0.1  16.03  ...      157.954545     113.712121     16.805357   \n",
       "25  0.1  12.93  ...      160.378788     114.424242     16.791071   \n",
       "26  0.2  12.90  ...      161.136364     114.742424     16.839881   \n",
       "27  0.2  15.22  ...      162.651515     115.121212     17.122619   \n",
       "28  0.1  17.45  ...      165.265152     115.583333     17.618452   \n",
       "\n",
       "    NOx_SubIndex  NH3_SubIndex CO_SubIndex O3_SubIndex Checks AQI_calculated  \\\n",
       "16     15.366406      2.844844         5.0  125.911765      7          155.0   \n",
       "17     15.179412      2.819412         5.0  153.279412      7          159.0   \n",
       "18     14.965972      2.797500         5.0  173.411765      7          173.0   \n",
       "19     15.200000      2.773947         5.0  183.529412      7          184.0   \n",
       "20     15.200000      2.773947         5.0  183.529412      7          184.0   \n",
       "21     14.961875      2.727750         5.0  190.735294      7          191.0   \n",
       "22     14.698810      2.707976         5.0  190.735294      7          191.0   \n",
       "23     15.076136      2.654773         5.0  190.735294      7          191.0   \n",
       "24     14.917045      2.680682         5.0  190.735294      7          191.0   \n",
       "25     14.678977      2.737045         5.0  190.735294      7          191.0   \n",
       "26     14.685795      2.765227        10.0  190.735294      7          191.0   \n",
       "27     14.719886      2.794091        10.0  190.735294      7          191.0   \n",
       "28     14.797727      2.796364        10.0  190.735294      7          191.0   \n",
       "\n",
       "   AQI_bucket_calculated  \n",
       "16              Moderate  \n",
       "17              Moderate  \n",
       "18              Moderate  \n",
       "19              Moderate  \n",
       "20              Moderate  \n",
       "21              Moderate  \n",
       "22              Moderate  \n",
       "23              Moderate  \n",
       "24              Moderate  \n",
       "25              Moderate  \n",
       "26              Moderate  \n",
       "27              Moderate  \n",
       "28              Moderate  \n",
       "\n",
       "[13 rows x 39 columns]"
      ]
     },
     "execution_count": 12,
     "metadata": {},
     "output_type": "execute_result"
    }
   ],
   "source": [
    "## AQI bucketing\n",
    "def get_AQI_bucket(x):\n",
    "    if x <= 50:\n",
    "        return \"Good\"\n",
    "    elif x <= 100:\n",
    "        return \"Satisfactory\"\n",
    "    elif x <= 200:\n",
    "        return \"Moderate\"\n",
    "    elif x <= 300:\n",
    "        return \"Poor\"\n",
    "    elif x <= 400:\n",
    "        return \"Very Poor\"\n",
    "    elif x > 400:\n",
    "        return \"Severe\"\n",
    "    else:\n",
    "        return np.NaN\n",
    "\n",
    "df[\"Checks\"] = (df[\"PM2.5_SubIndex\"] > 0).astype(int) + \\\n",
    "                (df[\"PM10_SubIndex\"] > 0).astype(int) + \\\n",
    "                (df[\"SO2_SubIndex\"] > 0).astype(int) + \\\n",
    "                (df[\"NOx_SubIndex\"] > 0).astype(int) + \\\n",
    "                (df[\"NH3_SubIndex\"] > 0).astype(int) + \\\n",
    "                (df[\"CO_SubIndex\"] > 0).astype(int) + \\\n",
    "                (df[\"O3_SubIndex\"] > 0).astype(int)\n",
    "\n",
    "df[\"AQI_calculated\"] = round(df[[\"PM2.5_SubIndex\", \"PM10_SubIndex\", \"SO2_SubIndex\", \"NOx_SubIndex\",\n",
    "                                 \"NH3_SubIndex\", \"CO_SubIndex\", \"O3_SubIndex\"]].max(axis = 1))\n",
    "df.loc[df[\"PM2.5_SubIndex\"] + df[\"PM10_SubIndex\"] <= 0, \"AQI_calculated\"] = np.NaN\n",
    "df.loc[df.Checks < 3, \"AQI_calculated\"] = np.NaN\n",
    "\n",
    "df[\"AQI_bucket_calculated\"] = df[\"AQI_calculated\"].apply(lambda x: get_AQI_bucket(x))\n",
    "df[~df.AQI_calculated.isna()].head(13)\n"
   ]
  },
  {
   "cell_type": "code",
   "execution_count": 13,
   "metadata": {
    "papermill": {
     "duration": 0.035683,
     "end_time": "2020-08-22T16:19:36.815592",
     "exception": false,
     "start_time": "2020-08-22T16:19:36.779909",
     "status": "completed"
    },
    "tags": []
   },
   "outputs": [
    {
     "data": {
      "text/plain": [
       "Moderate        674440\n",
       "Satisfactory    529994\n",
       "Very Poor       301628\n",
       "Poor            239934\n",
       "Good            152073\n",
       "Severe          120701\n",
       "Name: AQI_bucket_calculated, dtype: int64"
      ]
     },
     "execution_count": 13,
     "metadata": {},
     "output_type": "execute_result"
    }
   ],
   "source": [
    "df[~df.AQI_calculated.isna()].AQI_bucket_calculated.value_counts()"
   ]
  },
  {
   "cell_type": "markdown",
   "metadata": {
    "papermill": {
     "duration": 0.011083,
     "end_time": "2020-08-22T16:19:36.840470",
     "exception": false,
     "start_time": "2020-08-22T16:19:36.829387",
     "status": "completed"
    },
    "tags": []
   },
   "source": [
    "## Day level\n",
    "To get AQI at day level, the AQI values are averaged over the hours of the day.\n"
   ]
  },
  {
   "cell_type": "code",
   "execution_count": 14,
   "metadata": {
    "papermill": {
     "duration": 0.205053,
     "end_time": "2020-08-22T16:19:37.056697",
     "exception": false,
     "start_time": "2020-08-22T16:19:36.851644",
     "status": "completed"
    },
    "tags": []
   },
   "outputs": [],
   "source": [
    "df_station_hour = df\n",
    "df_station_day = pd.read_csv(PATH_STATION_DAY)\n",
    "\n",
    "df_station_day = df_station_day.merge(df.groupby([\"StationId\", \"Date\"])[\"AQI_calculated\"].mean().reset_index(), on = [\"StationId\", \"Date\"])\n",
    "df_station_day.AQI_calculated = round(df_station_day.AQI_calculated)\n"
   ]
  },
  {
   "cell_type": "markdown",
   "metadata": {
    "papermill": {
     "duration": 0.007148,
     "end_time": "2020-08-22T16:19:37.071474",
     "exception": false,
     "start_time": "2020-08-22T16:19:37.064326",
     "status": "completed"
    },
    "tags": []
   },
   "source": [
    "## City level\n",
    "To get AQI at city level, the AQI values are averaged over stations of the city."
   ]
  },
  {
   "cell_type": "code",
   "execution_count": 15,
   "metadata": {
    "papermill": {
     "duration": 2.924383,
     "end_time": "2020-08-22T16:19:40.002831",
     "exception": false,
     "start_time": "2020-08-22T16:19:37.078448",
     "status": "completed"
    },
    "tags": []
   },
   "outputs": [],
   "source": [
    "df_city_hour = pd.read_csv(PATH_CITY_HOUR)\n",
    "df_city_day = pd.read_csv(PATH_CITY_DAY)\n",
    "\n",
    "df_city_hour[\"Date\"] = pd.to_datetime(df_city_hour.Datetime).dt.date.astype(str)\n",
    "\n",
    "df_city_hour = df_city_hour.merge(df.groupby([\"City\", \"Datetime\"])[\"AQI_calculated\"].mean().reset_index(), on = [\"City\", \"Datetime\"])\n",
    "df_city_hour.AQI_calculated = round(df_city_hour.AQI_calculated)\n",
    "\n",
    "df_city_day = df_city_day.merge(df_city_hour.groupby([\"City\", \"Date\"])[\"AQI_calculated\"].mean().reset_index(), on = [\"City\", \"Date\"])\n",
    "df_city_day.AQI_calculated = round(df_city_day.AQI_calculated)\n"
   ]
  },
  {
   "cell_type": "markdown",
   "metadata": {
    "papermill": {
     "duration": 0.006889,
     "end_time": "2020-08-22T16:19:40.017669",
     "exception": false,
     "start_time": "2020-08-22T16:19:40.010780",
     "status": "completed"
    },
    "tags": []
   },
   "source": [
    "## Verification\n",
    "Since this exact formula is used for AQI calculated, lets quickly compare it with the actual AQI values present in the raw data at each of the four levels.\n"
   ]
  },
  {
   "cell_type": "code",
   "execution_count": 16,
   "metadata": {
    "papermill": {
     "duration": 0.056374,
     "end_time": "2020-08-22T16:19:40.081525",
     "exception": false,
     "start_time": "2020-08-22T16:19:40.025151",
     "status": "completed"
    },
    "tags": []
   },
   "outputs": [
    {
     "name": "stdout",
     "output_type": "stream",
     "text": [
      "Station + Hour\n",
      "Rows:  2017972\n",
      "Matched AQI:  2016725\n",
      "% Match:  99.93820528728843\n",
      "\n",
      "\n",
      "Station + Day\n",
      "Rows:  86995\n",
      "Matched AQI:  86904\n",
      "% Match:  99.89539628714294\n",
      "\n",
      "\n",
      "City + Hour\n",
      "Rows:  577929\n",
      "Matched AQI:  577004\n",
      "% Match:  99.83994573727915\n",
      "\n",
      "\n",
      "City + Day\n",
      "Rows:  24821\n",
      "Matched AQI:  24750\n",
      "% Match:  99.7139518955723\n"
     ]
    }
   ],
   "source": [
    "df_check_station_hour = df_station_hour[[\"AQI\", \"AQI_calculated\"]].dropna()\n",
    "df_check_station_day = df_station_day[[\"AQI\", \"AQI_calculated\"]].dropna()\n",
    "df_check_city_hour = df_city_hour[[\"AQI\", \"AQI_calculated\"]].dropna()\n",
    "df_check_city_day = df_city_day[[\"AQI\", \"AQI_calculated\"]].dropna()\n",
    "\n",
    "print(\"Station + Hour\")\n",
    "print(\"Rows: \", df_check_station_hour.shape[0])\n",
    "print(\"Matched AQI: \", (df_check_station_hour.AQI == df_check_station_hour.AQI_calculated).sum())\n",
    "print(\"% Match: \", (df_check_station_hour.AQI == df_check_station_hour.AQI_calculated).sum() * 100 / df_check_station_hour.shape[0])\n",
    "print(\"\\n\")\n",
    "print(\"Station + Day\")\n",
    "print(\"Rows: \", df_check_station_day.shape[0])\n",
    "print(\"Matched AQI: \", (df_check_station_day.AQI == df_check_station_day.AQI_calculated).sum())\n",
    "print(\"% Match: \", (df_check_station_day.AQI == df_check_station_day.AQI_calculated).sum() * 100 / df_check_station_day.shape[0])\n",
    "print(\"\\n\")\n",
    "print(\"City + Hour\")\n",
    "print(\"Rows: \", df_check_city_hour.shape[0])\n",
    "print(\"Matched AQI: \", (df_check_city_hour.AQI == df_check_city_hour.AQI_calculated).sum())\n",
    "print(\"% Match: \", (df_check_city_hour.AQI == df_check_city_hour.AQI_calculated).sum() * 100 / df_check_city_hour.shape[0])\n",
    "print(\"\\n\")\n",
    "print(\"City + Day\")\n",
    "print(\"Rows: \", df_check_city_day.shape[0])\n",
    "print(\"Matched AQI: \", (df_check_city_day.AQI == df_check_city_day.AQI_calculated).sum())\n",
    "print(\"% Match: \", (df_check_city_day.AQI == df_check_city_day.AQI_calculated).sum() * 100 / df_check_city_day.shape[0])\n"
   ]
  },
  {
   "cell_type": "code",
   "execution_count": 17,
   "metadata": {
    "papermill": {
     "duration": 0.007013,
     "end_time": "2020-08-22T16:19:40.096175",
     "exception": false,
     "start_time": "2020-08-22T16:19:40.089162",
     "status": "completed"
    },
    "tags": []
   },
   "outputs": [],
   "source": [
    "df.to_csv(\"/Users/mugunthansaravanan/Desktop/final.csv\")"
   ]
  },
  {
   "cell_type": "code",
   "execution_count": null,
   "metadata": {},
   "outputs": [],
   "source": []
  }
 ],
 "metadata": {
  "kernelspec": {
   "display_name": "Python 3 (ipykernel)",
   "language": "python",
   "name": "python3"
  },
  "language_info": {
   "codemirror_mode": {
    "name": "ipython",
    "version": 3
   },
   "file_extension": ".py",
   "mimetype": "text/x-python",
   "name": "python",
   "nbconvert_exporter": "python",
   "pygments_lexer": "ipython3",
   "version": "3.9.12"
  },
  "papermill": {
   "duration": 17.475624,
   "end_time": "2020-08-22T16:19:40.611234",
   "environment_variables": {},
   "exception": null,
   "input_path": "__notebook__.ipynb",
   "output_path": "__notebook__.ipynb",
   "parameters": {},
   "start_time": "2020-08-22T16:19:23.135610",
   "version": "1.2.1"
  }
 },
 "nbformat": 4,
 "nbformat_minor": 4
}
